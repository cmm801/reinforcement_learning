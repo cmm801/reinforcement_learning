{
 "cells": [
  {
   "cell_type": "code",
   "execution_count": 959,
   "metadata": {},
   "outputs": [
    {
     "data": {
      "text/plain": [
       "<module 'test_distributions' from '/Users/chris/programming/projects/reinforcement_learning/test_distributions.py'>"
      ]
     },
     "execution_count": 959,
     "metadata": {},
     "output_type": "execute_result"
    }
   ],
   "source": [
    "import numpy as np\n",
    "import tensorflow as tf\n",
    "import tensorflow_probability as tfp\n",
    "import gym\n",
    "import matplotlib.pyplot as plt\n",
    "\n",
    "import distributions\n",
    "#import simple_env\n",
    "#import actor_critic\n",
    "import test_distributions\n",
    "\n",
    "import importlib\n",
    "importlib.reload(distributions)\n",
    "#importlib.reload(simple_env)\n",
    "#importlib.reload(actor_critic)\n",
    "importlib.reload(test_distributions)"
   ]
  },
  {
   "cell_type": "code",
   "execution_count": 960,
   "metadata": {},
   "outputs": [],
   "source": [
    "cont_env = gym.make('Pendulum-v0')\n",
    "disc_env = gym.make('CartPole-v0')"
   ]
  },
  {
   "cell_type": "code",
   "execution_count": 961,
   "metadata": {},
   "outputs": [
    {
     "name": "stdout",
     "output_type": "stream",
     "text": [
      "Tests have passed for CategoricalTests\n",
      "Tests have passed for NormalDiagTests\n",
      "Tests have passed for NormalTriLTests\n",
      "Tests have passed for BetaTests\n",
      "Tests have passed for DirichletTests\n",
      "Tests have passed for MultiBetaTests\n",
      "All tests have passed.\n"
     ]
    }
   ],
   "source": [
    "test_distributions.run_all_tests()"
   ]
  },
  {
   "cell_type": "code",
   "execution_count": null,
   "metadata": {},
   "outputs": [],
   "source": []
  },
  {
   "cell_type": "code",
   "execution_count": null,
   "metadata": {},
   "outputs": [],
   "source": []
  },
  {
   "cell_type": "code",
   "execution_count": 843,
   "metadata": {},
   "outputs": [
    {
     "name": "stdout",
     "output_type": "stream",
     "text": [
      "[TensorShape([12, 3, 2]), TensorShape([12, 3])]\n"
     ]
    }
   ],
   "source": [
    "mu = np.array([ [1,2], [3, 4 ], [3, 4 ] ], dtype=np.float32)\n",
    "cov = np.array( [ [1, 2], [3, 4], [5, 6 ] ], dtype=np.float32 )\n",
    "dist = tfp.distributions.MultivariateNormalDiag( mu, cov )\n",
    "samples = dist.sample(12)\n",
    "print( [ samples.shape, dist.prob( samples ).shape ] )"
   ]
  },
  {
   "cell_type": "code",
   "execution_count": 845,
   "metadata": {},
   "outputs": [
    {
     "name": "stdout",
     "output_type": "stream",
     "text": [
      "[TensorShape([12, 3]), TensorShape([12, 3])]\n"
     ]
    }
   ],
   "source": [
    "logits = np.array([ [1,2, 3], [5, 3, 4 ], [1, 3, 4 ] ], dtype=np.float32)\n",
    "dist = tfp.distributions.Categorical(logits)\n",
    "samples = dist.sample(12)\n",
    "print( [ samples.shape, p.shape ])"
   ]
  },
  {
   "cell_type": "code",
   "execution_count": 889,
   "metadata": {},
   "outputs": [],
   "source": [
    "low = [-2, -2 ]\n",
    "high = [2, 2]\n",
    "dist = distributions.MultiBeta( low=low, high=high )\n",
    "param_array = np.array( [ [ 1, 10, 10, 1 ], [ 10, 1, 1, 10 ], [ 0, 0, 0, 0 ]  ], dtype=np.float32 )\n",
    "dist.set_distribution_from_array(param_array )\n",
    "samples = dist.sample(1000)\n",
    "#print( [ samples.shape, p.shape ])"
   ]
  },
  {
   "cell_type": "code",
   "execution_count": 891,
   "metadata": {},
   "outputs": [
    {
     "data": {
      "text/plain": [
       "(array([202., 192., 211., 202., 184., 211., 202., 181., 202., 213.]),\n",
       " array([-1.9982302e+00, -1.5985695e+00, -1.1989088e+00, -7.9924810e-01,\n",
       "        -3.9958739e-01,  7.3313713e-05,  3.9973402e-01,  7.9939473e-01,\n",
       "         1.1990554e+00,  1.5987161e+00,  1.9983768e+00], dtype=float32),\n",
       " <a list of 10 Patch objects>)"
      ]
     },
     "execution_count": 891,
     "metadata": {},
     "output_type": "execute_result"
    },
    {
     "data": {
      "image/png": "[encoded data removed]",
      "text/plain": [
       "<Figure size 432x288 with 1 Axes>"
      ]
     },
     "metadata": {
      "needs_background": "light"
     },
     "output_type": "display_data"
    }
   ],
   "source": [
    "plt.hist( samples[:,2,:].numpy().ravel() )"
   ]
  },
  {
   "cell_type": "code",
   "execution_count": null,
   "metadata": {},
   "outputs": [],
   "source": []
  },
  {
   "cell_type": "code",
   "execution_count": null,
   "metadata": {},
   "outputs": [],
   "source": []
  },
  {
   "cell_type": "code",
   "execution_count": null,
   "metadata": {},
   "outputs": [],
   "source": []
  },
  {
   "cell_type": "code",
   "execution_count": 930,
   "metadata": {},
   "outputs": [
    {
     "data": {
      "text/plain": [
       "<tf.Tensor: id=360930, shape=(12, 4), dtype=float32, numpy=\n",
       "array([[1., 1., 1., 1.],\n",
       "       [1., 1., 1., 1.],\n",
       "       [1., 1., 1., 1.],\n",
       "       [1., 1., 1., 1.],\n",
       "       [1., 1., 1., 1.],\n",
       "       [1., 1., 1., 1.],\n",
       "       [1., 1., 1., 1.],\n",
       "       [1., 1., 1., 1.],\n",
       "       [1., 1., 1., 1.],\n",
       "       [1., 1., 1., 1.],\n",
       "       [1., 1., 1., 1.],\n",
       "       [1., 1., 1., 1.]], dtype=float32)>"
      ]
     },
     "execution_count": 930,
     "metadata": {},
     "output_type": "execute_result"
    }
   ],
   "source": [
    "tf.ones( (12, 4 ) )"
   ]
  },
  {
   "cell_type": "code",
   "execution_count": 936,
   "metadata": {},
   "outputs": [],
   "source": [
    "A = tf.ones( (10, 2 ) )"
   ]
  },
  {
   "cell_type": "code",
   "execution_count": 942,
   "metadata": {},
   "outputs": [],
   "source": [
    "tf.slice?"
   ]
  },
  {
   "cell_type": "code",
   "execution_count": 945,
   "metadata": {},
   "outputs": [
    {
     "data": {
      "text/plain": [
       "TensorShape([10, 1])"
      ]
     },
     "execution_count": 945,
     "metadata": {},
     "output_type": "execute_result"
    }
   ],
   "source": [
    "tf.boolean_mask( A, np.array( [ False, True ] ), axis=1 )"
   ]
  },
  {
   "cell_type": "code",
   "execution_count": null,
   "metadata": {},
   "outputs": [],
   "source": []
  }
 ],
 "metadata": {
  "kernelspec": {
   "display_name": "Python (python37)",
   "language": "python",
   "name": "python37"
  },
  "language_info": {
   "codemirror_mode": {
    "name": "ipython",
    "version": 3
   },
   "file_extension": ".py",
   "mimetype": "text/x-python",
   "name": "python",
   "nbconvert_exporter": "python",
   "pygments_lexer": "ipython3",
   "version": "3.7.3"
  }
 },
 "nbformat": 4,
 "nbformat_minor": 2
}
