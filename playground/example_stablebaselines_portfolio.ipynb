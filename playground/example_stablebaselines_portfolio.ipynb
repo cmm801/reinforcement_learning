{
 "cells": [
  {
   "cell_type": "code",
   "execution_count": 2,
   "metadata": {},
   "outputs": [
    {
     "name": "stdout",
     "output_type": "stream",
     "text": [
      "The line_profiler extension is already loaded. To reload it, use:\n",
      "  %reload_ext line_profiler\n"
     ]
    }
   ],
   "source": [
    "import gym\n",
    "import numpy as np\n",
    "import tensorflow as tf\n",
    "import matplotlib.pyplot as plt\n",
    "\n",
    "from stable_baselines.sac.policies import MlpPolicy as MlpSACPolicy\n",
    "from stable_baselines.common.policies import MlpPolicy\n",
    "from stable_baselines.common.policies import MlpLstmPolicy\n",
    "from stable_baselines.common.vec_env import DummyVecEnv, VecEnv\n",
    "from stable_baselines import A2C, PPO2, SAC\n",
    "\n",
    "import envs.portfolio\n",
    "import envs.portfolio_distributions\n",
    "\n",
    "import importlib\n",
    "importlib.reload( envs.portfolio )\n",
    "importlib.reload( envs.portfolio_distributions )\n",
    "from envs.portfolio import PortfolioEnv\n",
    "\n",
    "%load_ext line_profiler"
   ]
  },
  {
   "cell_type": "code",
   "execution_count": null,
   "metadata": {},
   "outputs": [],
   "source": [
    "def create_custom_env():\n",
    "    n_risky_assets=1\n",
    "    objective='total-wealth'\n",
    "    benchmark_weights=None\n",
    "    utility_fun=envs.portfolio_distributions.ExponentialUtilityFunction(alpha=2)\n",
    "    trans_costs=0.0\n",
    "    min_short=0.0\n",
    "    max_long=1.0\n",
    "    n_periods_per_year=12\n",
    "    is_recurrent=True\n",
    "    asset_process_name='lognormal-static'\n",
    "    \n",
    "    # Set a custom asset process, with a custom probability distribution on the assets\n",
    "    # Get the parameters for a lognormal distribution with the desired properties\n",
    "    asset_process = envs.portfolio_distributions.LognormalStaticProcess( \n",
    "                                               np_random = np.random.RandomState(np.random.choice(1000)), \n",
    "                                               n_risky_assets=1, \n",
    "                                               n_periods_per_year=n_periods_per_year )\n",
    "    eq_risk_premium = -0.02\n",
    "    ann_vol = 0.15\n",
    "    distrib_params = dict( mu=[eq_risk_premium], sigma=[[ann_vol ** 2]] )\n",
    "    asset_process.set_distribution(distrib_params)\n",
    "    \n",
    "    env = PortfolioEnv(\n",
    "                        n_risky_assets=n_risky_assets,\n",
    "                        objective=objective,\n",
    "                        benchmark_weights=benchmark_weights,\n",
    "                        utility_fun=utility_fun,\n",
    "                        trans_costs=trans_costs,\n",
    "                        min_short=min_short,\n",
    "                        max_long=max_long,\n",
    "                        n_periods_per_year=n_periods_per_year,\n",
    "                        is_recurrent=is_recurrent,\n",
    "                        asset_process=asset_process\n",
    "                      )\n",
    "    return env"
   ]
  },
  {
   "cell_type": "code",
   "execution_count": 3,
   "metadata": {},
   "outputs": [],
   "source": [
    "def create_custom_env():\n",
    "    n_risky_assets=1\n",
    "    utility_fun=envs.portfolio_distributions.ExponentialUtilityFunction(alpha=2)\n",
    "    trans_costs=0.0\n",
    "    min_short=0.0\n",
    "    max_long=1.0\n",
    "    n_periods_per_year=12\n",
    "    is_recurrent=True\n",
    "    \n",
    "    env = PortfolioEnv(\n",
    "                        n_risky_assets=n_risky_assets,\n",
    "                        utility_fun=utility_fun,\n",
    "                        trans_costs=trans_costs,\n",
    "                        min_short=min_short,\n",
    "                        max_long=max_long,\n",
    "                        n_periods_per_year=n_periods_per_year,\n",
    "                        is_recurrent=is_recurrent\n",
    "                      )\n",
    "    return env"
   ]
  },
  {
   "cell_type": "code",
   "execution_count": null,
   "metadata": {},
   "outputs": [],
   "source": [
    "asset_process = envs.portfolio_distributions.LognormalStaticProcess( \n",
    "                                           np_random = np.random.RandomState(np.random.choice(1000)), \n",
    "                                           n_risky_assets=1, \n",
    "                                           n_periods_per_year=12 )\n",
    "eq_risk_premium = 0.04\n",
    "ann_vol = 0.15\n",
    "distrib_params = dict( mu=[eq_risk_premium], sigma=[[ann_vol ** 2]] )\n",
    "asset_process.set_distribution(distrib_params)"
   ]
  },
  {
   "cell_type": "code",
   "execution_count": null,
   "metadata": {},
   "outputs": [],
   "source": [
    "ann_log_rtns = np.log( np.product( 1 + asset_process.distrib.random(1200000).reshape(-1,12), axis=1 ) )\n",
    "ann_arith_rtns = -1 + np.exp( ann_log_rtns )\n",
    "plt.hist( ann_arith_rtns, 50 )\n",
    "[ ann_log_rtns.mean(), ann_log_rtns.std() ]"
   ]
  },
  {
   "cell_type": "code",
   "execution_count": null,
   "metadata": {},
   "outputs": [],
   "source": [
    "n_samples = int(1e6)\n",
    "mu = 0.02\n",
    "vol = 0.15\n",
    "\n",
    "wt_vals = np.arange( 0, 1.001, 0.01)\n",
    "u_vals = []\n",
    "sampled_rtns = np.random.multivariate_normal( [mu], [[vol ** 2]], size=(n_samples,) )\n",
    "for w in wt_vals:\n",
    "    u_val = np.mean( utility_fun(w * sampled_rtns) )\n",
    "    u_vals.append(u_val)\n",
    "    \n",
    "plt.plot( wt_vals, u_vals )"
   ]
  },
  {
   "cell_type": "code",
   "execution_count": null,
   "metadata": {},
   "outputs": [],
   "source": []
  },
  {
   "cell_type": "code",
   "execution_count": 18,
   "metadata": {},
   "outputs": [],
   "source": [
    "learning_rate = 0.0001\n",
    "act_fun = tf.tanh\n",
    "nminibatches = 4\n",
    "\n",
    "env_init_fun = lambda : create_custom_env()\n",
    "env = DummyVecEnv( [ env_init_fun for _ in range(nminibatches) ]  )\n",
    "\n",
    "is_recurrent = env.envs[0].is_recurrent\n",
    "utility_fun = env.envs[0].utility_fun\n",
    "    \n",
    "if is_recurrent:\n",
    "    net_arch=[ 32, 'lstm', dict( pi=[32],\n",
    "                                 vf=[32] ) ]\n",
    "    policy_kwargs=dict( act_fun=act_fun, net_arch=net_arch )\n",
    "    model = PPO2( MlpLstmPolicy, \n",
    "                  env, \n",
    "                  gamma=1.0,\n",
    "                  policy_kwargs=policy_kwargs,\n",
    "                  learning_rate=learning_rate,\n",
    "                  nminibatches=nminibatches,\n",
    "                  verbose=0 )    \n",
    "else:\n",
    "    net_arch = net_arch=[ 32, dict( pi=[32],\n",
    "                                    vf=[32] ) ]\n",
    "    net_arcn = [ 32, 32 ]\n",
    "    policy_kwargs=dict( act_fun=act_fun,\n",
    "                        net_arch=net_arch )\n",
    "    \n",
    "    model = PPO2( MlpPolicy, \n",
    "                  env, \n",
    "                  policy_kwargs=policy_kwargs,\n",
    "                  gamma = env.envs[0].get_gamma(),\n",
    "                  learning_rate=learning_rate,\n",
    "                  nminibatches=nminibatches,\n",
    "                  verbose=0 )"
   ]
  },
  {
   "cell_type": "code",
   "execution_count": 19,
   "metadata": {},
   "outputs": [
    {
     "name": "stdout",
     "output_type": "stream",
     "text": [
      "CPU times: user 26min 57s, sys: 16min 6s, total: 43min 3s\n",
      "Wall time: 10min 59s\n"
     ]
    },
    {
     "data": {
      "text/plain": [
       "<stable_baselines.ppo2.ppo2.PPO2 at 0x1c438d9790>"
      ]
     },
     "execution_count": 19,
     "metadata": {},
     "output_type": "execute_result"
    }
   ],
   "source": [
    "%%time\n",
    "model.learn(total_timesteps=int(2e5) )"
   ]
  },
  {
   "cell_type": "code",
   "execution_count": 20,
   "metadata": {},
   "outputs": [
    {
     "data": {
      "text/plain": [
       "[<matplotlib.lines.Line2D at 0x1c46925190>]"
      ]
     },
     "execution_count": 20,
     "metadata": {},
     "output_type": "execute_result"
    },
    {
     "data": {
      "image/png": "[encoded data removed]",
      "text/plain": [
       "<Figure size 432x288 with 1 Axes>"
      ]
     },
     "metadata": {
      "needs_background": "light"
     },
     "output_type": "display_data"
    }
   ],
   "source": [
    "mu = -0.02\n",
    "sigma = 0.15\n",
    "\n",
    "wt_vals = np.arange( 0, 1.001, 0.01)\n",
    "vals = []\n",
    "\n",
    "for mv_1 in wt_vals:\n",
    "    mv_0 = 1 - mv_1\n",
    "    if is_recurrent:\n",
    "        state = np.tile( np.array( [ mv_0, mv_1, mu, sigma ], dtype=np.float32 ), (nminibatches, 1) )\n",
    "    else:\n",
    "        state = np.array( [ 0.0, mv_0, mv_1, mu, sigma ], dtype=np.float32 )\n",
    "\n",
    "    action, next_state = model.predict(state)\n",
    "    if is_recurrent:\n",
    "        vals.append( action[0,:] )\n",
    "    else:\n",
    "        vals.append( action ) \n",
    "\n",
    "plt.plot(wt_vals, vals )    "
   ]
  },
  {
   "cell_type": "code",
   "execution_count": 21,
   "metadata": {},
   "outputs": [
    {
     "data": {
      "text/plain": [
       "[<matplotlib.lines.Line2D at 0x1c470d5510>]"
      ]
     },
     "execution_count": 21,
     "metadata": {},
     "output_type": "execute_result"
    },
    {
     "data": {
      "image/png": "[encoded data removed]",
      "text/plain": [
       "<Figure size 432x288 with 1 Axes>"
      ]
     },
     "metadata": {
      "needs_background": "light"
     },
     "output_type": "display_data"
    }
   ],
   "source": [
    "risky_wt = 0.\n",
    "sigma = 0.15\n",
    "\n",
    "mu_vals = np.arange( -.5, .5, 0.01)\n",
    "vals = []\n",
    "\n",
    "for mu in mu_vals:\n",
    "    if is_recurrent:\n",
    "        state = np.tile( np.array( [ 1 - risky_wt, risky_wt, mu, sigma ], dtype=np.float32 ), (nminibatches, 1) )\n",
    "    else:\n",
    "        state = np.array( [ 0.0, 1 - risky_wt, risky_wt, mu, sigma ], dtype=np.float32 )\n",
    "\n",
    "    action, next_state = model.predict(state)\n",
    "    if is_recurrent:\n",
    "        vals.append( action[0,:] )\n",
    "    else:\n",
    "        vals.append( action ) \n",
    "\n",
    "plt.plot(mu_vals, vals )    "
   ]
  },
  {
   "cell_type": "code",
   "execution_count": null,
   "metadata": {},
   "outputs": [],
   "source": []
  },
  {
   "cell_type": "code",
   "execution_count": 14,
   "metadata": {},
   "outputs": [],
   "source": [
    "def play_game(env, policy_func, gamma=1.0):\n",
    "    obs = env.reset()\n",
    "    tot_reward = 0\n",
    "    done = False\n",
    "    while not done:\n",
    "        state = obs\n",
    "        action = policy_func(state)\n",
    "        obs, reward, done, info = env.step(action)\n",
    "        tot_reward = gamma * tot_reward + reward\n",
    "    return tot_reward"
   ]
  },
  {
   "cell_type": "code",
   "execution_count": null,
   "metadata": {},
   "outputs": [],
   "source": [
    "scores = []\n",
    "tmp_env = create_custom_env()\n",
    "gm = tmp_env.get_gamma()\n",
    "x_vals = np.arange(0, 1.001, 0.05 )\n",
    "for x in x_vals:\n",
    "    policy_func = lambda state : np.array( [x], dtype=np.float32 )\n",
    "    avg_scores = []\n",
    "    for _ in range(10):\n",
    "        score = play_game( env=tmp_env, policy_func=policy_func, gamma=gm)\n",
    "        avg_scores.append(score)\n",
    "    scores.append(np.mean(avg_scores))\n",
    "plt.plot( x_vals, scores )    "
   ]
  },
  {
   "cell_type": "code",
   "execution_count": null,
   "metadata": {},
   "outputs": [],
   "source": [
    "tmp_env.reset()\n",
    "#tmp_env.step(np.array([1.]) )"
   ]
  },
  {
   "cell_type": "code",
   "execution_count": null,
   "metadata": {},
   "outputs": [],
   "source": []
  },
  {
   "cell_type": "code",
   "execution_count": null,
   "metadata": {},
   "outputs": [],
   "source": [
    "xx = np.arange(0.5, 2, 0.01 )\n",
    "etas = [ 0, 1, 2, 3 ]\n",
    "for eta in etas:\n",
    "    u_vals = []\n",
    "    u_func = envs.portfolio_distributions.PowerUtilityFunction(eta=eta)\n",
    "    for x in xx:\n",
    "        u1 = u_func(x)\n",
    "        gm = env.envs[0].get_gamma()\n",
    "        u_vals.append(u1)\n",
    "\n",
    "    plt.plot(xx, u_vals )\n",
    "    \n",
    "plt.legend(etas)"
   ]
  },
  {
   "cell_type": "code",
   "execution_count": null,
   "metadata": {},
   "outputs": [],
   "source": [
    "done = False\n",
    "obs = env.reset()\n",
    "mv_0 = obs[1] + obs[2]\n",
    "tot_rewards = 0\n",
    "while not done:\n",
    "    obs, reward, done, info = env.step( np.array([ 0.]) )\n",
    "    tot_rewards += np.exp(reward)\n",
    "mv_F = obs[1] + obs[2]\n",
    "print([ -1 + mv_F / mv_0, tot_rewards ] )"
   ]
  },
  {
   "cell_type": "code",
   "execution_count": null,
   "metadata": {},
   "outputs": [],
   "source": [
    "[ info, env.get_gamma() ]"
   ]
  },
  {
   "cell_type": "code",
   "execution_count": null,
   "metadata": {},
   "outputs": [],
   "source": [
    "1 / np.power( 1 + env.asset_process.risk_free_rate, 1 / env.n_periods_per_year )"
   ]
  },
  {
   "cell_type": "code",
   "execution_count": null,
   "metadata": {},
   "outputs": [],
   "source": [
    "def get_weights_from_unit_cube( array_vals ):\n",
    "    gamma_vals = scipy.stats.gamma.ppf( array_vals, a=1. )\n",
    "    norm_factor = gamma_vals.sum(axis=1, keepdims=True)\n",
    "    weights = gamma_vals / norm_factor\n",
    "    return weights, norm_factor\n",
    "\n",
    "def get_unit_cube_from_weights( weights, norm_factor ):\n",
    "    gamma_vals = weights * norm_factor\n",
    "    array_vals = scipy.stats.gamma.cdf( gamma_vals, a=1. )\n",
    "    return array_vals"
   ]
  }
 ],
 "metadata": {
  "kernelspec": {
   "display_name": "python3_tf1",
   "language": "python",
   "name": "python3_tf1"
  },
  "language_info": {
   "codemirror_mode": {
    "name": "ipython",
    "version": 3
   },
   "file_extension": ".py",
   "mimetype": "text/x-python",
   "name": "python",
   "nbconvert_exporter": "python",
   "pygments_lexer": "ipython3",
   "version": "3.7.6"
  }
 },
 "nbformat": 4,
 "nbformat_minor": 2
}
