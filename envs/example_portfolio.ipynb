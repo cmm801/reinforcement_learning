{
 "cells": [
  {
   "cell_type": "code",
   "execution_count": 239,
   "metadata": {},
   "outputs": [
    {
     "data": {
      "text/plain": [
       "<module 'portfolio' from '/Users/chris/programming/projects/reinforcement_learning/envs/portfolio.py'>"
      ]
     },
     "execution_count": 239,
     "metadata": {},
     "output_type": "execute_result"
    }
   ],
   "source": [
    "import distributions\n",
    "import portfolio\n",
    "import importlib\n",
    "importlib.reload(distributions)\n",
    "importlib.reload(portfolio)"
   ]
  },
  {
   "cell_type": "code",
   "execution_count": 243,
   "metadata": {},
   "outputs": [],
   "source": [
    "ptf_env = portfolio.PortfolioEnv(\n",
    "              n_risky_assets=3,\n",
    "              benchmark=None,\n",
    "              utility_fun=None, \n",
    "              trans_costs=0.0,\n",
    "              allow_leverage=False, \n",
    "              allow_shorting=False,\n",
    "              trading_periods_per_year=52,\n",
    "              is_static=True,\n",
    "              asset_process_name='lognormal-static'\n",
    "            )"
   ]
  },
  {
   "cell_type": "code",
   "execution_count": 244,
   "metadata": {},
   "outputs": [],
   "source": [
    "obs = ptf_env.reset()"
   ]
  },
  {
   "cell_type": "code",
   "execution_count": 245,
   "metadata": {},
   "outputs": [
    {
     "name": "stdout",
     "output_type": "stream",
     "text": [
      "[ 0.91000437  0.0727231   0.63155659  0.2460466  -0.00257722  0.07235013\n",
      "  0.07596479  0.0551843  -0.02290495  0.0740699  -0.03838372 -0.05495237\n",
      "  0.01306213]\n",
      "ObsParams(portfolio_value=0.9100043711979334, weight=array([0.04967371, 0.0727231 , 0.63155659, 0.2460466 ]), process_params={'mu': array([-0.00257722,  0.07235013,  0.07596479]), 'sigma': array([[ 0.00304531, -0.00126399, -0.00211818],\n",
      "       [-0.00126399,  0.00601099, -0.00319114],\n",
      "       [-0.00211818, -0.00319114,  0.00466369]])})\n"
     ]
    }
   ],
   "source": [
    "print(obs)\n",
    "print(ptf_env.parse_observation(obs))"
   ]
  },
  {
   "cell_type": "code",
   "execution_count": null,
   "metadata": {},
   "outputs": [],
   "source": []
  },
  {
   "cell_type": "code",
   "execution_count": null,
   "metadata": {},
   "outputs": [],
   "source": []
  },
  {
   "cell_type": "code",
   "execution_count": null,
   "metadata": {},
   "outputs": [],
   "source": []
  },
  {
   "cell_type": "code",
   "execution_count": null,
   "metadata": {},
   "outputs": [],
   "source": []
  }
 ],
 "metadata": {
  "kernelspec": {
   "display_name": "Python (python37)",
   "language": "python",
   "name": "python37"
  },
  "language_info": {
   "codemirror_mode": {
    "name": "ipython",
    "version": 3
   },
   "file_extension": ".py",
   "mimetype": "text/x-python",
   "name": "python",
   "nbconvert_exporter": "python",
   "pygments_lexer": "ipython3",
   "version": "3.7.3"
  }
 },
 "nbformat": 4,
 "nbformat_minor": 2
}
