{
 "cells": [
  {
   "cell_type": "code",
   "execution_count": 951,
   "metadata": {},
   "outputs": [
    {
     "data": {
      "text/plain": [
       "<module 'unittests' from '/Users/chris/programming/projects/reinforcement_learning/envs/unittests.py'>"
      ]
     },
     "execution_count": 951,
     "metadata": {},
     "output_type": "execute_result"
    }
   ],
   "source": [
    "import gym\n",
    "import distributions\n",
    "import portfolio\n",
    "import importlib\n",
    "import unittests\n",
    "importlib.reload(distributions)\n",
    "importlib.reload(portfolio)\n",
    "importlib.reload(unittests)"
   ]
  },
  {
   "cell_type": "code",
   "execution_count": 952,
   "metadata": {},
   "outputs": [
    {
     "name": "stdout",
     "output_type": "stream",
     "text": [
      "Tests have run successfully.\n"
     ]
    }
   ],
   "source": [
    "unittests.run_tests()"
   ]
  },
  {
   "cell_type": "code",
   "execution_count": 931,
   "metadata": {},
   "outputs": [],
   "source": [
    "# Create the gym environment for the portfolio\n",
    "env = portfolio.PortfolioEnv(                  \n",
    "                              n_risky_assets=1,\n",
    "                              objective='total-wealth',\n",
    "                              benchmark_weights=None,\n",
    "                              utility_fun=None, \n",
    "                              trans_costs=0.0,\n",
    "                              min_short=0.0,\n",
    "                              max_long=1.0,\n",
    "                              n_periods_per_year=12,\n",
    "                              n_years=10,\n",
    "                              is_static=True,\n",
    "                              asset_process_name='lognormal-static'\n",
    "                            )"
   ]
  },
  {
   "cell_type": "code",
   "execution_count": 953,
   "metadata": {},
   "outputs": [],
   "source": [
    "# Set a custom asset process, with a custom probability distribution on the assets\n",
    "# Get the parameters for a lognormal distribution with the desired properties\n",
    "asset_process = distributions.LognormalStaticProcess( \n",
    "                                           np_random = np.random.RandomState(42), \n",
    "                                           n_risky_assets=1, \n",
    "                                           n_periods_per_year=12 )\n",
    "eq_risk_premium = 0.04\n",
    "ann_vol = 0.15\n",
    "distrib_params = dict( mu=[eq_risk_premium], sigma=[[ann_vol ** 2]] )\n",
    "asset_process.set_distribution(distrib_params)\n",
    "obs = env.set_asset_process(asset_process)"
   ]
  },
  {
   "cell_type": "code",
   "execution_count": 954,
   "metadata": {},
   "outputs": [],
   "source": [
    "n_episodes = 100\n",
    "T = env.n_years * env.n_periods_per_year\n",
    "ptf_vals = np.zeros((T, n_episodes))\n",
    "for n in range(n_episodes):\n",
    "    env.reset()\n",
    "    obs = env.set_asset_process(asset_process)\n",
    "    for t in range(T):\n",
    "        ps = env.parse_observation(obs)        \n",
    "        ptf_vals[t,n] = ps.ptf_asset_vals.sum()\n",
    "        action = np.array([0])\n",
    "        obs, _, _, _ = env.step(action)"
   ]
  },
  {
   "cell_type": "code",
   "execution_count": 935,
   "metadata": {},
   "outputs": [
    {
     "data": {
      "text/plain": [
       "[<matplotlib.lines.Line2D at 0x1a51962278>]"
      ]
     },
     "execution_count": 935,
     "metadata": {},
     "output_type": "execute_result"
    },
    {
     "data": {
      "image/png": "[encoded data removed]",
      "text/plain": [
       "<Figure size 432x288 with 1 Axes>"
      ]
     },
     "metadata": {
      "needs_background": "light"
     },
     "output_type": "display_data"
    }
   ],
   "source": [
    "plt.plot( np.quantile( ptf_vals, 0.25, axis=1 ) )\n",
    "plt.plot( np.quantile( ptf_vals, 0.50, axis=1 ) )\n",
    "plt.plot( np.quantile( ptf_vals, 0.75, axis=1 ) )"
   ]
  },
  {
   "cell_type": "code",
   "execution_count": 936,
   "metadata": {},
   "outputs": [
    {
     "data": {
      "text/plain": [
       "[0.04414442817728777, 0.09896333338382324]"
      ]
     },
     "execution_count": 936,
     "metadata": {},
     "output_type": "execute_result"
    }
   ],
   "source": [
    "R = -1 + ptf_vals[1:,:] / ptf_vals[:-1,:]\n",
    "[ R.mean() * env.n_periods_per_year, R.std() * np.sqrt(env.n_periods_per_year) ]"
   ]
  },
  {
   "cell_type": "code",
   "execution_count": null,
   "metadata": {},
   "outputs": [],
   "source": []
  },
  {
   "cell_type": "code",
   "execution_count": null,
   "metadata": {},
   "outputs": [],
   "source": []
  },
  {
   "cell_type": "code",
   "execution_count": null,
   "metadata": {},
   "outputs": [],
   "source": []
  },
  {
   "cell_type": "code",
   "execution_count": null,
   "metadata": {},
   "outputs": [],
   "source": []
  }
 ],
 "metadata": {
  "kernelspec": {
   "display_name": "Python 3",
   "language": "python",
   "name": "python3"
  },
  "language_info": {
   "codemirror_mode": {
    "name": "ipython",
    "version": 3
   },
   "file_extension": ".py",
   "mimetype": "text/x-python",
   "name": "python",
   "nbconvert_exporter": "python",
   "pygments_lexer": "ipython3",
   "version": "3.7.3"
  }
 },
 "nbformat": 4,
 "nbformat_minor": 2
}
