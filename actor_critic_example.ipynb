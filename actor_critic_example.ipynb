{
 "cells": [
  {
   "cell_type": "code",
   "execution_count": 15,
   "metadata": {},
   "outputs": [],
   "source": [
    "import importlib\n",
    "import actor_critic\n",
    "importlib.reload(actor_critic)\n",
    "from actor_critic import ActorCritic"
   ]
  },
  {
   "cell_type": "code",
   "execution_count": 16,
   "metadata": {},
   "outputs": [],
   "source": [
    "ac = ActorCritic(\n",
    "                 environ_name=\"CartPole-v0\",\n",
    "                 n_envs=10,\n",
    "                 max_episode_steps=None,\n",
    "                 mlp_dims=(20,20),\n",
    "                 entropy_coef=0.01,\n",
    "                 reward_scale=1.,\n",
    "                 lr_actor=0.001,\n",
    "                 lr_critic=0.001,\n",
    "                )"
   ]
  },
  {
   "cell_type": "code",
   "execution_count": null,
   "metadata": {},
   "outputs": [
    {
     "data": {
      "image/png": "[encoded data removed]",
      "text/plain": [
       "<Figure size 576x288 with 2 Axes>"
      ]
     },
     "metadata": {
      "needs_background": "light"
     },
     "output_type": "display_data"
    },
    {
     "name": "stderr",
     "output_type": "stream",
     "text": [
      "\n",
      "  0%|          | 1/1001 [00:00<08:30,  1.96it/s]\u001b[AW1207 12:41:41.272116 4603114944 optimizer_v2.py:1029] Gradients do not exist for variables ['V_5/kernel:0', 'V_5/bias:0'] when minimizing the loss.\n",
      "W1207 12:41:41.277603 4603114944 optimizer_v2.py:1029] Gradients do not exist for variables ['logits_5/kernel:0', 'logits_5/bias:0'] when minimizing the loss.\n",
      "W1207 12:41:41.297458 4603114944 optimizer_v2.py:1029] Gradients do not exist for variables ['V_5/kernel:0', 'V_5/bias:0'] when minimizing the loss.\n",
      "W1207 12:41:41.301402 4603114944 optimizer_v2.py:1029] Gradients do not exist for variables ['logits_5/kernel:0', 'logits_5/bias:0'] when minimizing the loss.\n",
      "W1207 12:41:41.321074 4603114944 optimizer_v2.py:1029] Gradients do not exist for variables ['V_5/kernel:0', 'V_5/bias:0'] when minimizing the loss.\n",
      "W1207 12:41:41.324566 4603114944 optimizer_v2.py:1029] Gradients do not exist for variables ['logits_5/kernel:0', 'logits_5/bias:0'] when minimizing the loss.\n",
      "W1207 12:41:41.342200 4603114944 optimizer_v2.py:1029] Gradients do not exist for variables ['V_5/kernel:0', 'V_5/bias:0'] when minimizing the loss.\n",
      "W1207 12:41:41.348013 4603114944 optimizer_v2.py:1029] Gradients do not exist for variables ['logits_5/kernel:0', 'logits_5/bias:0'] when minimizing the loss.\n",
      "W1207 12:41:41.367362 4603114944 optimizer_v2.py:1029] Gradients do not exist for variables ['V_5/kernel:0', 'V_5/bias:0'] when minimizing the loss.\n",
      "W1207 12:41:41.371836 4603114944 optimizer_v2.py:1029] Gradients do not exist for variables ['logits_5/kernel:0', 'logits_5/bias:0'] when minimizing the loss.\n",
      "\n",
      "  1%|          | 6/1001 [00:00<06:03,  2.74it/s]\u001b[AW1207 12:41:41.398554 4603114944 optimizer_v2.py:1029] Gradients do not exist for variables ['V_5/kernel:0', 'V_5/bias:0'] when minimizing the loss.\n",
      "W1207 12:41:41.402593 4603114944 optimizer_v2.py:1029] Gradients do not exist for variables ['logits_5/kernel:0', 'logits_5/bias:0'] when minimizing the loss.\n",
      "W1207 12:41:41.423093 4603114944 optimizer_v2.py:1029] Gradients do not exist for variables ['V_5/kernel:0', 'V_5/bias:0'] when minimizing the loss.\n",
      "W1207 12:41:41.427839 4603114944 optimizer_v2.py:1029] Gradients do not exist for variables ['logits_5/kernel:0', 'logits_5/bias:0'] when minimizing the loss.\n",
      "W1207 12:41:41.446958 4603114944 optimizer_v2.py:1029] Gradients do not exist for variables ['V_5/kernel:0', 'V_5/bias:0'] when minimizing the loss.\n",
      "W1207 12:41:41.451190 4603114944 optimizer_v2.py:1029] Gradients do not exist for variables ['logits_5/kernel:0', 'logits_5/bias:0'] when minimizing the loss.\n",
      "W1207 12:41:41.472359 4603114944 optimizer_v2.py:1029] Gradients do not exist for variables ['V_5/kernel:0', 'V_5/bias:0'] when minimizing the loss.\n",
      "W1207 12:41:41.476078 4603114944 optimizer_v2.py:1029] Gradients do not exist for variables ['logits_5/kernel:0', 'logits_5/bias:0'] when minimizing the loss.\n",
      "\n",
      "  1%|          | 10/1001 [00:00<04:20,  3.80it/s]\u001b[AW1207 12:41:41.501441 4603114944 optimizer_v2.py:1029] Gradients do not exist for variables ['V_5/kernel:0', 'V_5/bias:0'] when minimizing the loss.\n",
      "W1207 12:41:41.505301 4603114944 optimizer_v2.py:1029] Gradients do not exist for variables ['logits_5/kernel:0', 'logits_5/bias:0'] when minimizing the loss.\n",
      "W1207 12:41:41.527942 4603114944 optimizer_v2.py:1029] Gradients do not exist for variables ['V_5/kernel:0', 'V_5/bias:0'] when minimizing the loss.\n",
      "W1207 12:41:41.534885 4603114944 optimizer_v2.py:1029] Gradients do not exist for variables ['logits_5/kernel:0', 'logits_5/bias:0'] when minimizing the loss.\n",
      "W1207 12:41:41.555896 4603114944 optimizer_v2.py:1029] Gradients do not exist for variables ['V_5/kernel:0', 'V_5/bias:0'] when minimizing the loss.\n",
      "W1207 12:41:41.560044 4603114944 optimizer_v2.py:1029] Gradients do not exist for variables ['logits_5/kernel:0', 'logits_5/bias:0'] when minimizing the loss.\n",
      "W1207 12:41:41.577184 4603114944 optimizer_v2.py:1029] Gradients do not exist for variables ['V_5/kernel:0', 'V_5/bias:0'] when minimizing the loss.\n",
      "W1207 12:41:41.584236 4603114944 optimizer_v2.py:1029] Gradients do not exist for variables ['logits_5/kernel:0', 'logits_5/bias:0'] when minimizing the loss.\n",
      "\n",
      "  1%|▏         | 14/1001 [00:00<03:09,  5.20it/s]\u001b[AW1207 12:41:41.608994 4603114944 optimizer_v2.py:1029] Gradients do not exist for variables ['V_5/kernel:0', 'V_5/bias:0'] when minimizing the loss.\n",
      "W1207 12:41:41.615525 4603114944 optimizer_v2.py:1029] Gradients do not exist for variables ['logits_5/kernel:0', 'logits_5/bias:0'] when minimizing the loss.\n",
      "W1207 12:41:41.637667 4603114944 optimizer_v2.py:1029] Gradients do not exist for variables ['V_5/kernel:0', 'V_5/bias:0'] when minimizing the loss.\n",
      "W1207 12:41:41.641530 4603114944 optimizer_v2.py:1029] Gradients do not exist for variables ['logits_5/kernel:0', 'logits_5/bias:0'] when minimizing the loss.\n",
      "W1207 12:41:41.660244 4603114944 optimizer_v2.py:1029] Gradients do not exist for variables ['V_5/kernel:0', 'V_5/bias:0'] when minimizing the loss.\n",
      "W1207 12:41:41.667476 4603114944 optimizer_v2.py:1029] Gradients do not exist for variables ['logits_5/kernel:0', 'logits_5/bias:0'] when minimizing the loss.\n",
      "W1207 12:41:41.690060 4603114944 optimizer_v2.py:1029] Gradients do not exist for variables ['V_5/kernel:0', 'V_5/bias:0'] when minimizing the loss.\n",
      "W1207 12:41:41.694169 4603114944 optimizer_v2.py:1029] Gradients do not exist for variables ['logits_5/kernel:0', 'logits_5/bias:0'] when minimizing the loss.\n",
      "\n",
      "  2%|▏         | 18/1001 [00:00<02:20,  7.00it/s]\u001b[AW1207 12:41:41.720507 4603114944 optimizer_v2.py:1029] Gradients do not exist for variables ['V_5/kernel:0', 'V_5/bias:0'] when minimizing the loss.\n",
      "W1207 12:41:41.723941 4603114944 optimizer_v2.py:1029] Gradients do not exist for variables ['logits_5/kernel:0', 'logits_5/bias:0'] when minimizing the loss.\n",
      "W1207 12:41:41.752573 4603114944 optimizer_v2.py:1029] Gradients do not exist for variables ['V_5/kernel:0', 'V_5/bias:0'] when minimizing the loss.\n",
      "W1207 12:41:41.756310 4603114944 optimizer_v2.py:1029] Gradients do not exist for variables ['logits_5/kernel:0', 'logits_5/bias:0'] when minimizing the loss.\n",
      "W1207 12:41:41.783370 4603114944 optimizer_v2.py:1029] Gradients do not exist for variables ['V_5/kernel:0', 'V_5/bias:0'] when minimizing the loss.\n",
      "W1207 12:41:41.788887 4603114944 optimizer_v2.py:1029] Gradients do not exist for variables ['logits_5/kernel:0', 'logits_5/bias:0'] when minimizing the loss.\n",
      "W1207 12:41:41.818388 4603114944 optimizer_v2.py:1029] Gradients do not exist for variables ['V_5/kernel:0', 'V_5/bias:0'] when minimizing the loss.\n",
      "W1207 12:41:41.822696 4603114944 optimizer_v2.py:1029] Gradients do not exist for variables ['logits_5/kernel:0', 'logits_5/bias:0'] when minimizing the loss.\n",
      "\n",
      "  2%|▏         | 22/1001 [00:01<01:47,  9.12it/s]\u001b[AW1207 12:41:41.854213 4603114944 optimizer_v2.py:1029] Gradients do not exist for variables ['V_5/kernel:0', 'V_5/bias:0'] when minimizing the loss.\n",
      "W1207 12:41:41.858282 4603114944 optimizer_v2.py:1029] Gradients do not exist for variables ['logits_5/kernel:0', 'logits_5/bias:0'] when minimizing the loss.\n",
      "W1207 12:41:41.878300 4603114944 optimizer_v2.py:1029] Gradients do not exist for variables ['V_5/kernel:0', 'V_5/bias:0'] when minimizing the loss.\n",
      "W1207 12:41:41.883824 4603114944 optimizer_v2.py:1029] Gradients do not exist for variables ['logits_5/kernel:0', 'logits_5/bias:0'] when minimizing the loss.\n",
      "W1207 12:41:41.904074 4603114944 optimizer_v2.py:1029] Gradients do not exist for variables ['V_5/kernel:0', 'V_5/bias:0'] when minimizing the loss.\n",
      "W1207 12:41:41.907967 4603114944 optimizer_v2.py:1029] Gradients do not exist for variables ['logits_5/kernel:0', 'logits_5/bias:0'] when minimizing the loss.\n",
      "W1207 12:41:41.929457 4603114944 optimizer_v2.py:1029] Gradients do not exist for variables ['V_5/kernel:0', 'V_5/bias:0'] when minimizing the loss.\n",
      "W1207 12:41:41.933563 4603114944 optimizer_v2.py:1029] Gradients do not exist for variables ['logits_5/kernel:0', 'logits_5/bias:0'] when minimizing the loss.\n",
      "\n",
      "  3%|▎         | 26/1001 [00:01<01:22, 11.76it/s]\u001b[AW1207 12:41:41.956496 4603114944 optimizer_v2.py:1029] Gradients do not exist for variables ['V_5/kernel:0', 'V_5/bias:0'] when minimizing the loss.\n"
     ]
    },
    {
     "name": "stderr",
     "output_type": "stream",
     "text": [
      "W1207 12:41:41.963443 4603114944 optimizer_v2.py:1029] Gradients do not exist for variables ['logits_5/kernel:0', 'logits_5/bias:0'] when minimizing the loss.\n",
      "W1207 12:41:41.981364 4603114944 optimizer_v2.py:1029] Gradients do not exist for variables ['V_5/kernel:0', 'V_5/bias:0'] when minimizing the loss.\n",
      "W1207 12:41:41.985790 4603114944 optimizer_v2.py:1029] Gradients do not exist for variables ['logits_5/kernel:0', 'logits_5/bias:0'] when minimizing the loss.\n",
      "W1207 12:41:42.004810 4603114944 optimizer_v2.py:1029] Gradients do not exist for variables ['V_5/kernel:0', 'V_5/bias:0'] when minimizing the loss.\n",
      "W1207 12:41:42.008957 4603114944 optimizer_v2.py:1029] Gradients do not exist for variables ['logits_5/kernel:0', 'logits_5/bias:0'] when minimizing the loss.\n",
      "W1207 12:41:42.027197 4603114944 optimizer_v2.py:1029] Gradients do not exist for variables ['V_5/kernel:0', 'V_5/bias:0'] when minimizing the loss.\n",
      "W1207 12:41:42.031237 4603114944 optimizer_v2.py:1029] Gradients do not exist for variables ['logits_5/kernel:0', 'logits_5/bias:0'] when minimizing the loss.\n",
      "W1207 12:41:42.048900 4603114944 optimizer_v2.py:1029] Gradients do not exist for variables ['V_5/kernel:0', 'V_5/bias:0'] when minimizing the loss.\n",
      "W1207 12:41:42.053257 4603114944 optimizer_v2.py:1029] Gradients do not exist for variables ['logits_5/kernel:0', 'logits_5/bias:0'] when minimizing the loss.\n",
      "\n",
      "  3%|▎         | 31/1001 [00:01<01:04, 14.98it/s]\u001b[AW1207 12:41:42.076335 4603114944 optimizer_v2.py:1029] Gradients do not exist for variables ['V_5/kernel:0', 'V_5/bias:0'] when minimizing the loss.\n",
      "W1207 12:41:42.081362 4603114944 optimizer_v2.py:1029] Gradients do not exist for variables ['logits_5/kernel:0', 'logits_5/bias:0'] when minimizing the loss.\n",
      "W1207 12:41:42.100279 4603114944 optimizer_v2.py:1029] Gradients do not exist for variables ['V_5/kernel:0', 'V_5/bias:0'] when minimizing the loss.\n",
      "W1207 12:41:42.105604 4603114944 optimizer_v2.py:1029] Gradients do not exist for variables ['logits_5/kernel:0', 'logits_5/bias:0'] when minimizing the loss.\n",
      "W1207 12:41:42.125305 4603114944 optimizer_v2.py:1029] Gradients do not exist for variables ['V_5/kernel:0', 'V_5/bias:0'] when minimizing the loss.\n",
      "W1207 12:41:42.130577 4603114944 optimizer_v2.py:1029] Gradients do not exist for variables ['logits_5/kernel:0', 'logits_5/bias:0'] when minimizing the loss.\n",
      "W1207 12:41:42.149317 4603114944 optimizer_v2.py:1029] Gradients do not exist for variables ['V_5/kernel:0', 'V_5/bias:0'] when minimizing the loss.\n",
      "W1207 12:41:42.153890 4603114944 optimizer_v2.py:1029] Gradients do not exist for variables ['logits_5/kernel:0', 'logits_5/bias:0'] when minimizing the loss.\n",
      "\n",
      "  3%|▎         | 35/1001 [00:01<00:52, 18.44it/s]\u001b[AW1207 12:41:42.176527 4603114944 optimizer_v2.py:1029] Gradients do not exist for variables ['V_5/kernel:0', 'V_5/bias:0'] when minimizing the loss.\n",
      "W1207 12:41:42.180903 4603114944 optimizer_v2.py:1029] Gradients do not exist for variables ['logits_5/kernel:0', 'logits_5/bias:0'] when minimizing the loss.\n",
      "W1207 12:41:42.198729 4603114944 optimizer_v2.py:1029] Gradients do not exist for variables ['V_5/kernel:0', 'V_5/bias:0'] when minimizing the loss.\n",
      "W1207 12:41:42.202908 4603114944 optimizer_v2.py:1029] Gradients do not exist for variables ['logits_5/kernel:0', 'logits_5/bias:0'] when minimizing the loss.\n",
      "W1207 12:41:42.221844 4603114944 optimizer_v2.py:1029] Gradients do not exist for variables ['V_5/kernel:0', 'V_5/bias:0'] when minimizing the loss.\n",
      "W1207 12:41:42.226096 4603114944 optimizer_v2.py:1029] Gradients do not exist for variables ['logits_5/kernel:0', 'logits_5/bias:0'] when minimizing the loss.\n",
      "W1207 12:41:42.243283 4603114944 optimizer_v2.py:1029] Gradients do not exist for variables ['V_5/kernel:0', 'V_5/bias:0'] when minimizing the loss.\n",
      "W1207 12:41:42.247574 4603114944 optimizer_v2.py:1029] Gradients do not exist for variables ['logits_5/kernel:0', 'logits_5/bias:0'] when minimizing the loss.\n",
      "W1207 12:41:42.265541 4603114944 optimizer_v2.py:1029] Gradients do not exist for variables ['V_5/kernel:0', 'V_5/bias:0'] when minimizing the loss.\n",
      "W1207 12:41:42.269969 4603114944 optimizer_v2.py:1029] Gradients do not exist for variables ['logits_5/kernel:0', 'logits_5/bias:0'] when minimizing the loss.\n",
      "\n",
      "  4%|▍         | 40/1001 [00:01<00:43, 22.26it/s]\u001b[AW1207 12:41:42.291715 4603114944 optimizer_v2.py:1029] Gradients do not exist for variables ['V_5/kernel:0', 'V_5/bias:0'] when minimizing the loss.\n",
      "W1207 12:41:42.296432 4603114944 optimizer_v2.py:1029] Gradients do not exist for variables ['logits_5/kernel:0', 'logits_5/bias:0'] when minimizing the loss.\n",
      "W1207 12:41:42.314235 4603114944 optimizer_v2.py:1029] Gradients do not exist for variables ['V_5/kernel:0', 'V_5/bias:0'] when minimizing the loss.\n",
      "W1207 12:41:42.317794 4603114944 optimizer_v2.py:1029] Gradients do not exist for variables ['logits_5/kernel:0', 'logits_5/bias:0'] when minimizing the loss.\n"
     ]
    }
   ],
   "source": [
    "%%time\n",
    "ac.run(n_iters=1001, gamma=0.99, n_games_per_plot_update=3)"
   ]
  },
  {
   "cell_type": "code",
   "execution_count": null,
   "metadata": {},
   "outputs": [],
   "source": [
    "ac.agent.model.summary()"
   ]
  },
  {
   "cell_type": "code",
   "execution_count": null,
   "metadata": {},
   "outputs": [],
   "source": []
  },
  {
   "cell_type": "code",
   "execution_count": null,
   "metadata": {},
   "outputs": [],
   "source": []
  },
  {
   "cell_type": "code",
   "execution_count": null,
   "metadata": {},
   "outputs": [],
   "source": []
  }
 ],
 "metadata": {
  "kernelspec": {
   "display_name": "Python (python37)",
   "language": "python",
   "name": "python37"
  },
  "language_info": {
   "codemirror_mode": {
    "name": "ipython",
    "version": 3
   },
   "file_extension": ".py",
   "mimetype": "text/x-python",
   "name": "python",
   "nbconvert_exporter": "python",
   "pygments_lexer": "ipython3",
   "version": "3.7.3"
  }
 },
 "nbformat": 4,
 "nbformat_minor": 2
}
